{
 "cells": [
  {
   "cell_type": "code",
   "execution_count": 1,
   "metadata": {},
   "outputs": [],
   "source": [
    "import os\n",
    "import shutil\n",
    "import sys\n",
    "from collections import Counter\n",
    "from copy import deepcopy\n",
    "from pathlib import Path\n",
    "\n",
    "abs_module_path = Path(\"./../\").resolve()\n",
    "if (abs_module_path.exists()) and (str(abs_module_path) not in sys.path):\n",
    "    sys.path.append(str(abs_module_path)) # add path to scan customized module\n",
    "\n",
    "from modules.data.processeddatainstance import ProcessedDataInstance\n",
    "from modules.shared.config import load_config\n",
    "from modules.shared.utils import create_new_dir, exclude_paths, get_repo_root"
   ]
  },
  {
   "cell_type": "code",
   "execution_count": null,
   "metadata": {},
   "outputs": [],
   "source": [
    "processed_di = ProcessedDataInstance()\n",
    "processed_di.parse_config(\"ml_analysis.toml\")"
   ]
  },
  {
   "cell_type": "code",
   "execution_count": null,
   "metadata": {},
   "outputs": [],
   "source": [
    "root = processed_di.palmskin_processed_dir\n",
    "subdirs = exclude_paths(list(root.glob(f\"*/SLIC/*\")), [\".tif\"])\n",
    "\n",
    "dir_name_cnt = Counter()\n",
    "for subdir in subdirs:\n",
    "    dir_name = subdir.parts[-1]\n",
    "    dir_name_cnt.update([dir_name])\n",
    "\n",
    "dir_name_cnt"
   ]
  },
  {
   "cell_type": "code",
   "execution_count": null,
   "metadata": {},
   "outputs": [],
   "source": [
    "repo_root = get_repo_root()\n",
    "collect_dst = repo_root.joinpath(\"script_ml/data/collected/SLIC_analyze\")\n",
    "\n",
    "\n",
    "for dir_name in dir_name_cnt.keys():\n",
    "    \n",
    "    src_dir = collect_dst.joinpath(processed_di.instance_name, dir_name)\n",
    "    create_new_dir(src_dir)\n",
    "    \n",
    "    paths = list(root.glob(f\"*/SLIC/{dir_name}/*.seg1.png\"))\n",
    "    for path in paths:\n",
    "        \n",
    "        dname = path.relative_to(root).parts[0]\n",
    "        path_split = deepcopy(list(path.parts))\n",
    "        path_split[-1] = path_split[-1].replace(\".seg1.png\", \".ana.toml\")\n",
    "        toml_file = Path(*path_split)\n",
    "        cell_cnt = load_config(toml_file)[\"cell_count\"]\n",
    "        \n",
    "        new_path = src_dir.joinpath(f\"cnt{cell_cnt}_{dname}.png\")\n",
    "        print(new_path)\n",
    "        shutil.copy(path, new_path)"
   ]
  }
 ],
 "metadata": {
  "kernelspec": {
   "display_name": "zebrafish_py310",
   "language": "python",
   "name": "python3"
  },
  "language_info": {
   "codemirror_mode": {
    "name": "ipython",
    "version": 3
   },
   "file_extension": ".py",
   "mimetype": "text/x-python",
   "name": "python",
   "nbconvert_exporter": "python",
   "pygments_lexer": "ipython3",
   "version": "3.10.12"
  }
 },
 "nbformat": 4,
 "nbformat_minor": 2
}
